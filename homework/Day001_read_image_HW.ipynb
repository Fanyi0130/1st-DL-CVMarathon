{
 "cells": [
  {
   "cell_type": "markdown",
   "metadata": {},
   "source": [
    "# 作業\n",
    "\n",
    "思考一下我們前面有提到圖片是矩陣，但維度可能會不一樣\n",
    "例如灰階圖只有兩個維度，RGB 彩圖則有 3 個維度\n",
    "\n",
    "假如今天我們把 RGB 3 個維度拆開來看會有甚麼不同的效果呢？"
   ]
  },
  {
   "cell_type": "code",
   "execution_count": null,
   "metadata": {},
   "outputs": [],
   "source": [
    "import cv2\n",
    "import numpy as np\n",
    "\n",
    "img_path = '/Users/fanyi/Desktop/2019馬拉松/D1-OpenCV 簡介 + 顯示圖片/Part01/lena.png'\n",
    "\n",
    "# 以彩色圖片的方式載入\n",
    "img = cv2.imread('/Users/fanyi/Desktop/2019馬拉松/D1-OpenCV 簡介 + 顯示圖片/Part01/lena.png', cv2.IMREAD_COLOR)\n",
    "\n",
    "# 切割RGB通道、在OpenCV中圖像的第一通道是B，第二通道是G，最後是R\n",
    "B, G, R = cv2.split(img)\n",
    "\n",
    "#建立與img相同大小的零矩陣\n",
    "zeros = np.zeros(img.shape[:2], dtype = \"uint8\")\n",
    "\n",
    "# 為了要不斷顯示圖片，所以使用一個迴圈\n",
    "while True:\n",
    "    \n",
    "    # 顯示彩圖、merge函数的使用\n",
    "    cv2.imshow(\"Blue\", cv2.merge([B, zeros, zeros]))\n",
    "    cv2.imshow(\"Green\", cv2.merge([zeros, G, zeros]))\n",
    "    cv2.imshow(\"Red\", cv2.merge([zeros, zeros, R]))\n",
    "\n",
    "    # 直到按下 ESC 鍵才會自動關閉視窗結束程式\n",
    "    k = cv2.waitKey(0)\n",
    "    if k == 27:\n",
    "        cv2.destroyAllWindows()\n",
    "        break"
   ]
  },
  {
   "cell_type": "code",
   "execution_count": 1,
   "metadata": {},
   "outputs": [
    {
     "data": {
      "text/plain": [
       "True"
      ]
     },
     "execution_count": 1,
     "metadata": {},
     "output_type": "execute_result"
    }
   ],
   "source": [
    "import os\n",
    "\n",
    "os.path.exists(\"/Users/fanyi/Desktop/2019馬拉松/D1-OpenCV 簡介 + 顯示圖片/Part01/lena.png\")   "
   ]
  },
  {
   "cell_type": "code",
   "execution_count": null,
   "metadata": {},
   "outputs": [],
   "source": []
  }
 ],
 "metadata": {
  "kernelspec": {
   "display_name": "Python 3",
   "language": "python",
   "name": "python3"
  },
  "language_info": {
   "codemirror_mode": {
    "name": "ipython",
    "version": 3
   },
   "file_extension": ".py",
   "mimetype": "text/x-python",
   "name": "python",
   "nbconvert_exporter": "python",
   "pygments_lexer": "ipython3",
   "version": "3.7.4"
  }
 },
 "nbformat": 4,
 "nbformat_minor": 2
}
